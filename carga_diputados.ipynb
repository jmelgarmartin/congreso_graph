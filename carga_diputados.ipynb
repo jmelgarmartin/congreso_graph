{
 "cells": [
  {
   "cell_type": "code",
   "execution_count": 1,
   "metadata": {},
   "outputs": [],
   "source": [
    "import neo4j_connector as nc\n",
    "import re"
   ]
  },
  {
   "cell_type": "markdown",
   "metadata": {},
   "source": [
    "### Definimos funciones"
   ]
  },
  {
   "cell_type": "code",
   "execution_count": 2,
   "metadata": {},
   "outputs": [],
   "source": [
    "def load_diputados(diputados):\n",
    "    graph = nc.generate_graph()\n",
    "    graph.delete_all()\n",
    "    graph.run('CREATE CONSTRAINT ON (d:Diputado) ASSERT d.apellidos IS UNIQUE')\n",
    "    graph.run('CREATE CONSTRAINT ON (p:Palabra) ASSERT p.palabra IS UNIQUE')\n",
    "    for diputado in diputados:\n",
    "        graph.run(nc.insert_diputado(diputado))\n",
    "    graph.run(nc.asignar_partidos())"
   ]
  },
  {
   "cell_type": "markdown",
   "metadata": {},
   "source": [
    "### Cargamos a los diputados"
   ]
  },
  {
   "cell_type": "code",
   "execution_count": 3,
   "metadata": {},
   "outputs": [],
   "source": [
    "f_diputados = open('files/diputados.txt', 'r', encoding=\"utf8\").readlines()\n",
    "groups_names = {\n",
    "    '(GCUP-EC-GC)': 'Grupo Podemos',\n",
    "    '(GV (EAJ-PNV))': 'Grupo Vasco',\n",
    "    '(GR)': 'Grupo Republicano',\n",
    "    '(GCs)': 'Grupo Ciudadanos',\n",
    "    '(GVOX)': 'Grupo Vox',\n",
    "    '(GMx)': 'Grupo Mixto',\n",
    "    '(GS)': 'Grupo Socialista',\n",
    "    '(GP)': 'Grupo Popular',\n",
    "    '(GEH Bildu)': 'Grupo EH Bildu',\n",
    "    '(GPlu)': 'Grupo Plural',\n",
    "    '(IND)': 'Independiente'\n",
    "}"
   ]
  },
  {
   "cell_type": "code",
   "execution_count": 4,
   "metadata": {},
   "outputs": [],
   "source": [
    "diputados = []\n",
    "\n",
    "for line in f_diputados:\n",
    "    data = line.replace('\\n', '')\n",
    "    if data != '':\n",
    "        apellidos, nombre = data.split(',')\n",
    "        regex = r\" [(].*[)]\"\n",
    "        matches = re.findall(regex, nombre)\n",
    "        nombre = nombre.replace(matches[0], '').lstrip()\n",
    "        grupo = groups_names[matches[0].lstrip()]\n",
    "        diputado = {'apellidos': apellidos.lower(),\n",
    "                    'nombre': nombre.lower(),\n",
    "                    'grupo': grupo}\n",
    "        diputados.append(diputado)"
   ]
  },
  {
   "cell_type": "code",
   "execution_count": 5,
   "metadata": {},
   "outputs": [
    {
     "name": "stdout",
     "output_type": "stream",
     "text": [
      "a\n",
      "b\n"
     ]
    }
   ],
   "source": [
    "load_diputados(diputados)"
   ]
  },
  {
   "cell_type": "code",
   "execution_count": null,
   "metadata": {},
   "outputs": [],
   "source": []
  }
 ],
 "metadata": {
  "kernelspec": {
   "display_name": "Python 3",
   "language": "python",
   "name": "python3"
  },
  "language_info": {
   "codemirror_mode": {
    "name": "ipython",
    "version": 3
   },
   "file_extension": ".py",
   "mimetype": "text/x-python",
   "name": "python",
   "nbconvert_exporter": "python",
   "pygments_lexer": "ipython3",
   "version": "3.7.6"
  }
 },
 "nbformat": 4,
 "nbformat_minor": 4
}
